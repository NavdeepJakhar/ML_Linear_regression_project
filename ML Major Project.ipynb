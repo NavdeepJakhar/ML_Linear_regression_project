{
 "cells": [
  {
   "cell_type": "markdown",
   "id": "57fcda6d-f589-462e-b5c8-9c3660c0f40e",
   "metadata": {
    "tags": []
   },
   "source": [
    "# MACHINE LEARNING MAJOR PROJECT\n"
   ]
  },
  {
   "cell_type": "markdown",
   "id": "409e3ccd-6f2d-4283-997b-297054cb907d",
   "metadata": {},
   "source": [
    "## Problem Statement :-\n",
    "Take any Dataset of your choice, perform EDA (Exploratory Data Analysis) and apply a\n",
    "suitable Classifier, Regressor or Clusterer and calculate the accuracy of the model."
   ]
  },
  {
   "cell_type": "markdown",
   "id": "36ab1d06-965e-4fe3-a517-5f88b7a02a39",
   "metadata": {},
   "source": [
    "I have chosen the 'Salary data' dataset and I will be performing Linear regression on it.<br>\n",
    "Link of the dataset - https://github.com/ameenmanna8824/DATASETS/blob/main/Salary_Data.csv<br>\n",
    "Raw - https://raw.githubusercontent.com/ameenmanna8824/DATASETS/main/Salary_Data.csv"
   ]
  },
  {
   "cell_type": "markdown",
   "id": "811e51dd-bdf7-435c-a285-e7f8602e96f6",
   "metadata": {},
   "source": [
    "---\n",
    "### Creating dataframe"
   ]
  },
  {
   "cell_type": "code",
   "execution_count": 53,
   "id": "be49f7ef-0b0f-4ff6-a69b-615ddcaf79b8",
   "metadata": {},
   "outputs": [
    {
     "data": {
      "text/html": [
       "<div>\n",
       "<style scoped>\n",
       "    .dataframe tbody tr th:only-of-type {\n",
       "        vertical-align: middle;\n",
       "    }\n",
       "\n",
       "    .dataframe tbody tr th {\n",
       "        vertical-align: top;\n",
       "    }\n",
       "\n",
       "    .dataframe thead th {\n",
       "        text-align: right;\n",
       "    }\n",
       "</style>\n",
       "<table border=\"1\" class=\"dataframe\">\n",
       "  <thead>\n",
       "    <tr style=\"text-align: right;\">\n",
       "      <th></th>\n",
       "      <th>YearsExperience</th>\n",
       "      <th>Salary</th>\n",
       "    </tr>\n",
       "  </thead>\n",
       "  <tbody>\n",
       "    <tr>\n",
       "      <th>0</th>\n",
       "      <td>1.1</td>\n",
       "      <td>39343.0</td>\n",
       "    </tr>\n",
       "    <tr>\n",
       "      <th>1</th>\n",
       "      <td>1.3</td>\n",
       "      <td>46205.0</td>\n",
       "    </tr>\n",
       "    <tr>\n",
       "      <th>2</th>\n",
       "      <td>1.5</td>\n",
       "      <td>37731.0</td>\n",
       "    </tr>\n",
       "    <tr>\n",
       "      <th>3</th>\n",
       "      <td>2.0</td>\n",
       "      <td>43525.0</td>\n",
       "    </tr>\n",
       "    <tr>\n",
       "      <th>4</th>\n",
       "      <td>2.2</td>\n",
       "      <td>39891.0</td>\n",
       "    </tr>\n",
       "    <tr>\n",
       "      <th>5</th>\n",
       "      <td>2.9</td>\n",
       "      <td>56642.0</td>\n",
       "    </tr>\n",
       "    <tr>\n",
       "      <th>6</th>\n",
       "      <td>3.0</td>\n",
       "      <td>60150.0</td>\n",
       "    </tr>\n",
       "    <tr>\n",
       "      <th>7</th>\n",
       "      <td>3.2</td>\n",
       "      <td>54445.0</td>\n",
       "    </tr>\n",
       "    <tr>\n",
       "      <th>8</th>\n",
       "      <td>3.2</td>\n",
       "      <td>64445.0</td>\n",
       "    </tr>\n",
       "    <tr>\n",
       "      <th>9</th>\n",
       "      <td>3.7</td>\n",
       "      <td>57189.0</td>\n",
       "    </tr>\n",
       "    <tr>\n",
       "      <th>10</th>\n",
       "      <td>3.9</td>\n",
       "      <td>63218.0</td>\n",
       "    </tr>\n",
       "    <tr>\n",
       "      <th>11</th>\n",
       "      <td>4.0</td>\n",
       "      <td>55794.0</td>\n",
       "    </tr>\n",
       "    <tr>\n",
       "      <th>12</th>\n",
       "      <td>4.0</td>\n",
       "      <td>56957.0</td>\n",
       "    </tr>\n",
       "    <tr>\n",
       "      <th>13</th>\n",
       "      <td>4.1</td>\n",
       "      <td>57081.0</td>\n",
       "    </tr>\n",
       "    <tr>\n",
       "      <th>14</th>\n",
       "      <td>4.5</td>\n",
       "      <td>61111.0</td>\n",
       "    </tr>\n",
       "    <tr>\n",
       "      <th>15</th>\n",
       "      <td>4.9</td>\n",
       "      <td>67938.0</td>\n",
       "    </tr>\n",
       "    <tr>\n",
       "      <th>16</th>\n",
       "      <td>5.1</td>\n",
       "      <td>66029.0</td>\n",
       "    </tr>\n",
       "    <tr>\n",
       "      <th>17</th>\n",
       "      <td>5.3</td>\n",
       "      <td>83088.0</td>\n",
       "    </tr>\n",
       "    <tr>\n",
       "      <th>18</th>\n",
       "      <td>5.9</td>\n",
       "      <td>81363.0</td>\n",
       "    </tr>\n",
       "    <tr>\n",
       "      <th>19</th>\n",
       "      <td>6.0</td>\n",
       "      <td>93940.0</td>\n",
       "    </tr>\n",
       "    <tr>\n",
       "      <th>20</th>\n",
       "      <td>6.8</td>\n",
       "      <td>91738.0</td>\n",
       "    </tr>\n",
       "    <tr>\n",
       "      <th>21</th>\n",
       "      <td>7.1</td>\n",
       "      <td>98273.0</td>\n",
       "    </tr>\n",
       "    <tr>\n",
       "      <th>22</th>\n",
       "      <td>7.9</td>\n",
       "      <td>101302.0</td>\n",
       "    </tr>\n",
       "    <tr>\n",
       "      <th>23</th>\n",
       "      <td>8.2</td>\n",
       "      <td>113812.0</td>\n",
       "    </tr>\n",
       "    <tr>\n",
       "      <th>24</th>\n",
       "      <td>8.7</td>\n",
       "      <td>109431.0</td>\n",
       "    </tr>\n",
       "    <tr>\n",
       "      <th>25</th>\n",
       "      <td>9.0</td>\n",
       "      <td>105582.0</td>\n",
       "    </tr>\n",
       "    <tr>\n",
       "      <th>26</th>\n",
       "      <td>9.5</td>\n",
       "      <td>116969.0</td>\n",
       "    </tr>\n",
       "    <tr>\n",
       "      <th>27</th>\n",
       "      <td>9.6</td>\n",
       "      <td>112635.0</td>\n",
       "    </tr>\n",
       "    <tr>\n",
       "      <th>28</th>\n",
       "      <td>10.3</td>\n",
       "      <td>122391.0</td>\n",
       "    </tr>\n",
       "    <tr>\n",
       "      <th>29</th>\n",
       "      <td>10.5</td>\n",
       "      <td>121872.0</td>\n",
       "    </tr>\n",
       "  </tbody>\n",
       "</table>\n",
       "</div>"
      ],
      "text/plain": [
       "    YearsExperience    Salary\n",
       "0               1.1   39343.0\n",
       "1               1.3   46205.0\n",
       "2               1.5   37731.0\n",
       "3               2.0   43525.0\n",
       "4               2.2   39891.0\n",
       "5               2.9   56642.0\n",
       "6               3.0   60150.0\n",
       "7               3.2   54445.0\n",
       "8               3.2   64445.0\n",
       "9               3.7   57189.0\n",
       "10              3.9   63218.0\n",
       "11              4.0   55794.0\n",
       "12              4.0   56957.0\n",
       "13              4.1   57081.0\n",
       "14              4.5   61111.0\n",
       "15              4.9   67938.0\n",
       "16              5.1   66029.0\n",
       "17              5.3   83088.0\n",
       "18              5.9   81363.0\n",
       "19              6.0   93940.0\n",
       "20              6.8   91738.0\n",
       "21              7.1   98273.0\n",
       "22              7.9  101302.0\n",
       "23              8.2  113812.0\n",
       "24              8.7  109431.0\n",
       "25              9.0  105582.0\n",
       "26              9.5  116969.0\n",
       "27              9.6  112635.0\n",
       "28             10.3  122391.0\n",
       "29             10.5  121872.0"
      ]
     },
     "execution_count": 53,
     "metadata": {},
     "output_type": "execute_result"
    }
   ],
   "source": [
    "import pandas as pd\n",
    "df=pd.read_csv('https://raw.githubusercontent.com/ameenmanna8824/DATASETS/main/Salary_Data.csv')\n",
    "df"
   ]
  },
  {
   "cell_type": "markdown",
   "id": "f98f7d57-bad4-45b5-94e6-7f744849520b",
   "metadata": {
    "tags": []
   },
   "source": [
    "---\n",
    "### Exploratory Data Analysis (EDA)"
   ]
  },
  {
   "cell_type": "code",
   "execution_count": 54,
   "id": "3764ae5f-a8f9-4e58-af62-46eabd4559e0",
   "metadata": {},
   "outputs": [
    {
     "data": {
      "text/plain": [
       "(30, 2)"
      ]
     },
     "execution_count": 54,
     "metadata": {},
     "output_type": "execute_result"
    }
   ],
   "source": [
    "df.shape"
   ]
  },
  {
   "cell_type": "code",
   "execution_count": 55,
   "id": "470ab872-af4f-4b45-8012-01667bf9dc57",
   "metadata": {},
   "outputs": [
    {
     "data": {
      "text/plain": [
       "28"
      ]
     },
     "execution_count": 55,
     "metadata": {},
     "output_type": "execute_result"
    }
   ],
   "source": [
    "df.YearsExperience.nunique()"
   ]
  },
  {
   "cell_type": "code",
   "execution_count": 56,
   "id": "2d1bd8bb-cd47-4104-9063-f53f2b952bf6",
   "metadata": {},
   "outputs": [
    {
     "data": {
      "text/plain": [
       "30"
      ]
     },
     "execution_count": 56,
     "metadata": {},
     "output_type": "execute_result"
    }
   ],
   "source": [
    "df.Salary.nunique()"
   ]
  },
  {
   "cell_type": "code",
   "execution_count": 57,
   "id": "e0e41470-cb42-48c7-8fdc-2cdcbe1d7000",
   "metadata": {},
   "outputs": [
    {
     "data": {
      "text/plain": [
       "array([ 39343.,  46205.,  37731.,  43525.,  39891.,  56642.,  60150.,\n",
       "        54445.,  64445.,  57189.,  63218.,  55794.,  56957.,  57081.,\n",
       "        61111.,  67938.,  66029.,  83088.,  81363.,  93940.,  91738.,\n",
       "        98273., 101302., 113812., 109431., 105582., 116969., 112635.,\n",
       "       122391., 121872.])"
      ]
     },
     "execution_count": 57,
     "metadata": {},
     "output_type": "execute_result"
    }
   ],
   "source": [
    "df.Salary.unique()"
   ]
  },
  {
   "cell_type": "code",
   "execution_count": 58,
   "id": "34cb6be0-1acd-4ff8-8f3a-8040c0f54d6f",
   "metadata": {},
   "outputs": [
    {
     "data": {
      "text/plain": [
       "array([ 1.1,  1.3,  1.5,  2. ,  2.2,  2.9,  3. ,  3.2,  3.7,  3.9,  4. ,\n",
       "        4.1,  4.5,  4.9,  5.1,  5.3,  5.9,  6. ,  6.8,  7.1,  7.9,  8.2,\n",
       "        8.7,  9. ,  9.5,  9.6, 10.3, 10.5])"
      ]
     },
     "execution_count": 58,
     "metadata": {},
     "output_type": "execute_result"
    }
   ],
   "source": [
    "df.YearsExperience.unique()"
   ]
  },
  {
   "cell_type": "markdown",
   "id": "19f36f27-dbdc-4de2-b2fd-ee12a56ee675",
   "metadata": {},
   "source": [
    "#### Salary analysis"
   ]
  },
  {
   "cell_type": "code",
   "execution_count": 59,
   "id": "9dfa33f3-2e29-40ef-873f-7adbb0d3af14",
   "metadata": {},
   "outputs": [
    {
     "data": {
      "text/plain": [
       "Salary above 40k\n",
       "False     3\n",
       "True     27\n",
       "dtype: int64"
      ]
     },
     "execution_count": 59,
     "metadata": {},
     "output_type": "execute_result"
    }
   ],
   "source": [
    "# Salary above 40k\n",
    "\n",
    "df['Salary above 40k'] = df['Salary'] > 40000\n",
    "df.groupby('Salary above 40k').size()"
   ]
  },
  {
   "cell_type": "code",
   "execution_count": 60,
   "id": "961376b0-400b-41d2-8622-873efffdfb51",
   "metadata": {},
   "outputs": [
    {
     "data": {
      "text/plain": [
       "Salary above 70k\n",
       "False    17\n",
       "True     13\n",
       "dtype: int64"
      ]
     },
     "execution_count": 60,
     "metadata": {},
     "output_type": "execute_result"
    }
   ],
   "source": [
    "# Salary above 70k\n",
    "\n",
    "df['Salary above 70k'] = df['Salary'] > 70000\n",
    "df.groupby('Salary above 70k').size()"
   ]
  },
  {
   "cell_type": "code",
   "execution_count": 62,
   "id": "97371c2e-31ad-4c53-ae31-e1660af8862e",
   "metadata": {},
   "outputs": [
    {
     "data": {
      "text/plain": [
       "Salary above 100k\n",
       "False    22\n",
       "True      8\n",
       "dtype: int64"
      ]
     },
     "execution_count": 62,
     "metadata": {},
     "output_type": "execute_result"
    }
   ],
   "source": [
    "# Salary above 100k\n",
    "\n",
    "df['Salary above 100k'] = df['Salary'] > 100000\n",
    "df.groupby('Salary above 100k').size()"
   ]
  },
  {
   "cell_type": "markdown",
   "id": "46864f4f-6fa7-4e38-bcc4-fa8856010eb8",
   "metadata": {},
   "source": [
    "---\n",
    "\n",
    "<br>\n",
    "\n",
    "From the above cell blocks, we can deduce that<br>\n",
    "- Employees with salary above 40,000 : 27 / 30<br>\n",
    "- Employees with salary above 70,000 : 13 / 30<br>\n",
    "- Employees with salary above 100,000 : 8 / 30<br>\n",
    "<br>\n",
    "\n",
    "---"
   ]
  },
  {
   "cell_type": "markdown",
   "id": "d5e24e51-f078-4a8d-88ef-21582e42beb4",
   "metadata": {
    "tags": []
   },
   "source": [
    "#### Years of exp. analysis"
   ]
  },
  {
   "cell_type": "code",
   "execution_count": 63,
   "id": "be38aeb5-eef6-4f3e-a389-0e273366abe8",
   "metadata": {},
   "outputs": [
    {
     "data": {
      "text/plain": [
       "Year of exp. > 2\n",
       "False     4\n",
       "True     26\n",
       "dtype: int64"
      ]
     },
     "execution_count": 63,
     "metadata": {},
     "output_type": "execute_result"
    }
   ],
   "source": [
    "# Years of Experience above 2\n",
    "\n",
    "df['Year of exp. > 2'] = df['YearsExperience'] > 2\n",
    "df.groupby('Year of exp. > 2').size()"
   ]
  },
  {
   "cell_type": "code",
   "execution_count": 64,
   "id": "a041d172-b972-44f6-95dd-8be826fbdb40",
   "metadata": {},
   "outputs": [
    {
     "data": {
      "text/plain": [
       "Year of exp. > 5\n",
       "False    16\n",
       "True     14\n",
       "dtype: int64"
      ]
     },
     "execution_count": 64,
     "metadata": {},
     "output_type": "execute_result"
    }
   ],
   "source": [
    "# Years of Experience above 5\n",
    "\n",
    "df['Year of exp. > 5'] = df['YearsExperience'] > 5\n",
    "df.groupby('Year of exp. > 5').size()"
   ]
  },
  {
   "cell_type": "code",
   "execution_count": 65,
   "id": "c019025c-01f0-4934-bf2b-0d89fcbe4639",
   "metadata": {},
   "outputs": [
    {
     "data": {
      "text/plain": [
       "Year of exp. > 8\n",
       "False    23\n",
       "True      7\n",
       "dtype: int64"
      ]
     },
     "execution_count": 65,
     "metadata": {},
     "output_type": "execute_result"
    }
   ],
   "source": [
    "# Years of Experience above 8\n",
    "\n",
    "df['Year of exp. > 8'] = df['YearsExperience'] > 8\n",
    "df.groupby('Year of exp. > 8').size()"
   ]
  },
  {
   "cell_type": "code",
   "execution_count": 66,
   "id": "f124cae1-740b-412c-b6ba-55715879d702",
   "metadata": {},
   "outputs": [
    {
     "data": {
      "text/plain": [
       "Year of exp. > 10\n",
       "False    28\n",
       "True      2\n",
       "dtype: int64"
      ]
     },
     "execution_count": 66,
     "metadata": {},
     "output_type": "execute_result"
    }
   ],
   "source": [
    "# Years of Experience above 10\n",
    "\n",
    "df['Year of exp. > 10'] = df['YearsExperience'] > 10\n",
    "df.groupby('Year of exp. > 10').size()"
   ]
  },
  {
   "cell_type": "markdown",
   "id": "8780e0f1-81ea-4c90-aa25-1d1132e7c40f",
   "metadata": {},
   "source": [
    "---\n",
    "\n",
    "<br>\n",
    "\n",
    "From the above cell blocks, we can deduce that<br>\n",
    "- Employees with years of exp. above 2  :  26 / 30<br>\n",
    "- Employees with years of exp. above 5  :  14 / 30<br>\n",
    "- Employees with years of exp. above 8  :  7 / 30<br>\n",
    "- Employees with years of exp. above 10  :  2 / 30<br>\n",
    "<br>\n",
    "\n",
    "---"
   ]
  },
  {
   "cell_type": "markdown",
   "id": "44630e42-a64c-4289-b8d3-c874189396c1",
   "metadata": {
    "tags": []
   },
   "source": [
    "#### Min. and Max. years of experience and salary"
   ]
  },
  {
   "cell_type": "code",
   "execution_count": 67,
   "id": "d9b62fee-1de8-43b6-b1ba-5cf8faa89037",
   "metadata": {},
   "outputs": [
    {
     "data": {
      "text/plain": [
       "1.1"
      ]
     },
     "execution_count": 67,
     "metadata": {},
     "output_type": "execute_result"
    }
   ],
   "source": [
    "df.YearsExperience.min()"
   ]
  },
  {
   "cell_type": "code",
   "execution_count": 68,
   "id": "bc9f90a1-a1ba-4bf1-ae14-7654e4eeb505",
   "metadata": {},
   "outputs": [
    {
     "data": {
      "text/plain": [
       "10.5"
      ]
     },
     "execution_count": 68,
     "metadata": {},
     "output_type": "execute_result"
    }
   ],
   "source": [
    "df.YearsExperience.max()"
   ]
  },
  {
   "cell_type": "code",
   "execution_count": 69,
   "id": "2bead24c-7240-4d1d-9f3d-8410840327be",
   "metadata": {},
   "outputs": [
    {
     "data": {
      "text/plain": [
       "37731.0"
      ]
     },
     "execution_count": 69,
     "metadata": {},
     "output_type": "execute_result"
    }
   ],
   "source": [
    "df.Salary.min()"
   ]
  },
  {
   "cell_type": "code",
   "execution_count": 70,
   "id": "860f0a15-f39d-4e4d-a05d-bc0f1646e238",
   "metadata": {},
   "outputs": [
    {
     "data": {
      "text/plain": [
       "122391.0"
      ]
     },
     "execution_count": 70,
     "metadata": {},
     "output_type": "execute_result"
    }
   ],
   "source": [
    "df.Salary.max()"
   ]
  },
  {
   "cell_type": "markdown",
   "id": "cba8d25e-8237-42ed-aefa-12a446f7400d",
   "metadata": {},
   "source": [
    "---\n",
    "<br>\n",
    "\n",
    "From the above cells, we can deduce that\n",
    "- Min. Years of exp. : 1.1 yrs<br>\n",
    "- Max. Years of exp. : 10.5 yrs<br>\n",
    "<br>\n",
    "- Min. Salary : 37731.0<br>\n",
    "- Max. Salary : 122391.0<br><br>\n",
    "\n",
    "---"
   ]
  },
  {
   "cell_type": "markdown",
   "id": "9bfae46c-d004-447b-9bc3-c27fbccbb56b",
   "metadata": {
    "tags": []
   },
   "source": [
    "---\n",
    "### Data Visualisation"
   ]
  },
  {
   "cell_type": "code",
   "execution_count": 71,
   "id": "2f0ce5cf-3373-43d1-9fae-b730806850f1",
   "metadata": {},
   "outputs": [
    {
     "data": {
      "text/plain": [
       "Text(0, 0.5, 'Salary')"
      ]
     },
     "execution_count": 71,
     "metadata": {},
     "output_type": "execute_result"
    },
    {
     "data": {
      "image/png": "[encoded data removed]",
      "text/plain": [
       "<Figure size 640x480 with 1 Axes>"
      ]
     },
     "metadata": {},
     "output_type": "display_data"
    }
   ],
   "source": [
    "import matplotlib.pyplot as plt\n",
    "plt.scatter(df['YearsExperience'],df['Salary'])\n",
    "plt.title(\"YEARS OF EXPERIENCE VS SALARY\")\n",
    "plt.xlabel('Years of Experience')\n",
    "plt.ylabel('Salary')"
   ]
  },
  {
   "cell_type": "markdown",
   "id": "de72d70b-0008-41ca-a5ad-eb5d5468a80d",
   "metadata": {
    "tags": []
   },
   "source": [
    "---\n",
    "### Dividing data into input and output"
   ]
  },
  {
   "cell_type": "code",
   "execution_count": 72,
   "id": "d196560c-8ced-40fb-bcbc-dffa5a486717",
   "metadata": {},
   "outputs": [
    {
     "data": {
      "text/plain": [
       "0      1.1\n",
       "1      1.3\n",
       "2      1.5\n",
       "3      2.0\n",
       "4      2.2\n",
       "5      2.9\n",
       "6      3.0\n",
       "7      3.2\n",
       "8      3.2\n",
       "9      3.7\n",
       "10     3.9\n",
       "11     4.0\n",
       "12     4.0\n",
       "13     4.1\n",
       "14     4.5\n",
       "15     4.9\n",
       "16     5.1\n",
       "17     5.3\n",
       "18     5.9\n",
       "19     6.0\n",
       "20     6.8\n",
       "21     7.1\n",
       "22     7.9\n",
       "23     8.2\n",
       "24     8.7\n",
       "25     9.0\n",
       "26     9.5\n",
       "27     9.6\n",
       "28    10.3\n",
       "29    10.5\n",
       "Name: YearsExperience, dtype: float64"
      ]
     },
     "execution_count": 72,
     "metadata": {},
     "output_type": "execute_result"
    }
   ],
   "source": [
    "x = df.iloc[:,0]\n",
    "x"
   ]
  },
  {
   "cell_type": "code",
   "execution_count": 73,
   "id": "ada5108c-70f2-42b6-ad57-0a9594a1eb85",
   "metadata": {},
   "outputs": [
    {
     "data": {
      "text/plain": [
       "array([[ 1.1],\n",
       "       [ 1.3],\n",
       "       [ 1.5],\n",
       "       [ 2. ],\n",
       "       [ 2.2],\n",
       "       [ 2.9],\n",
       "       [ 3. ],\n",
       "       [ 3.2],\n",
       "       [ 3.2],\n",
       "       [ 3.7],\n",
       "       [ 3.9],\n",
       "       [ 4. ],\n",
       "       [ 4. ],\n",
       "       [ 4.1],\n",
       "       [ 4.5],\n",
       "       [ 4.9],\n",
       "       [ 5.1],\n",
       "       [ 5.3],\n",
       "       [ 5.9],\n",
       "       [ 6. ],\n",
       "       [ 6.8],\n",
       "       [ 7.1],\n",
       "       [ 7.9],\n",
       "       [ 8.2],\n",
       "       [ 8.7],\n",
       "       [ 9. ],\n",
       "       [ 9.5],\n",
       "       [ 9.6],\n",
       "       [10.3]])"
      ]
     },
     "execution_count": 73,
     "metadata": {},
     "output_type": "execute_result"
    }
   ],
   "source": [
    "x = df.iloc[:29,:1].values\n",
    "x"
   ]
  },
  {
   "cell_type": "code",
   "execution_count": 74,
   "id": "534ce91f-9537-4c38-a174-2e8a3273d8cc",
   "metadata": {},
   "outputs": [
    {
     "data": {
      "text/plain": [
       "0      39343.0\n",
       "1      46205.0\n",
       "2      37731.0\n",
       "3      43525.0\n",
       "4      39891.0\n",
       "5      56642.0\n",
       "6      60150.0\n",
       "7      54445.0\n",
       "8      64445.0\n",
       "9      57189.0\n",
       "10     63218.0\n",
       "11     55794.0\n",
       "12     56957.0\n",
       "13     57081.0\n",
       "14     61111.0\n",
       "15     67938.0\n",
       "16     66029.0\n",
       "17     83088.0\n",
       "18     81363.0\n",
       "19     93940.0\n",
       "20     91738.0\n",
       "21     98273.0\n",
       "22    101302.0\n",
       "23    113812.0\n",
       "24    109431.0\n",
       "25    105582.0\n",
       "26    116969.0\n",
       "27    112635.0\n",
       "28    122391.0\n",
       "29    121872.0\n",
       "Name: Salary, dtype: float64"
      ]
     },
     "execution_count": 74,
     "metadata": {},
     "output_type": "execute_result"
    }
   ],
   "source": [
    "y = df.iloc[:,1]\n",
    "y"
   ]
  },
  {
   "cell_type": "code",
   "execution_count": 75,
   "id": "680044e8-cc4a-4e51-a4e3-d364812cfbc7",
   "metadata": {},
   "outputs": [
    {
     "data": {
      "text/plain": [
       "array([ 46205.,  37731.,  43525.,  39891.,  56642.,  60150.,  54445.,\n",
       "        64445.,  57189.,  63218.,  55794.,  56957.,  57081.,  61111.,\n",
       "        67938.,  66029.,  83088.,  81363.,  93940.,  91738.,  98273.,\n",
       "       101302., 113812., 109431., 105582., 116969., 112635., 122391.,\n",
       "       121872.])"
      ]
     },
     "execution_count": 75,
     "metadata": {},
     "output_type": "execute_result"
    }
   ],
   "source": [
    "y = df.iloc[1:30,1].values\n",
    "y"
   ]
  },
  {
   "cell_type": "markdown",
   "id": "a81d6776-43df-4bdb-9a27-830ff6ae21ac",
   "metadata": {
    "tags": []
   },
   "source": [
    "---\n",
    "### Running Regressor"
   ]
  },
  {
   "cell_type": "code",
   "execution_count": 76,
   "id": "50d6413b-185b-4322-bc40-46ce2b3ffc91",
   "metadata": {},
   "outputs": [],
   "source": [
    "from sklearn.linear_model import LinearRegression\n",
    "model = LinearRegression()"
   ]
  },
  {
   "cell_type": "markdown",
   "id": "ba1f3916-6e20-4f01-9bf2-0061f53e451c",
   "metadata": {},
   "source": [
    "---\n",
    "### Fitting the model"
   ]
  },
  {
   "cell_type": "code",
   "execution_count": 77,
   "id": "87966285-df07-4f42-9184-3a21ee9d58e8",
   "metadata": {},
   "outputs": [
    {
     "data": {
      "text/plain": [
       "LinearRegression()"
      ]
     },
     "execution_count": 77,
     "metadata": {},
     "output_type": "execute_result"
    }
   ],
   "source": [
    "model.fit(x,y)"
   ]
  },
  {
   "cell_type": "markdown",
   "id": "2006abc9-391f-4231-9b31-f8a886732da0",
   "metadata": {},
   "source": [
    "---\n",
    "### Predicting the output"
   ]
  },
  {
   "cell_type": "code",
   "execution_count": 78,
   "id": "4720fe86-fd95-45b3-81ca-e5afb4379498",
   "metadata": {},
   "outputs": [
    {
     "data": {
      "text/plain": [
       "array([ 38160.81764789,  40099.42155936,  42038.02547083,  46884.53524951,\n",
       "        48823.13916098,  55608.25285114,  56577.55480687,  58516.15871835,\n",
       "        58516.15871835,  63362.66849703,  65301.2724085 ,  66270.57436423,\n",
       "        66270.57436423,  67239.87631997,  71117.08414292,  74994.29196586,\n",
       "        76932.89587733,  78871.4997888 ,  84687.31152322,  85656.61347896,\n",
       "        93411.02912485,  96318.93499206, 104073.35063794, 106981.25650515,\n",
       "       111827.76628383, 114735.67215104, 119582.18192972, 120551.48388546,\n",
       "       127336.59757561])"
      ]
     },
     "execution_count": 78,
     "metadata": {},
     "output_type": "execute_result"
    }
   ],
   "source": [
    "# Predicted Output Values\n",
    "\n",
    "y_pred = model.predict(x) \n",
    "y_pred"
   ]
  },
  {
   "cell_type": "code",
   "execution_count": 79,
   "id": "e93f1526-8c52-4818-b320-73e516c3def6",
   "metadata": {},
   "outputs": [
    {
     "data": {
      "text/plain": [
       "array([ 46205.,  37731.,  43525.,  39891.,  56642.,  60150.,  54445.,\n",
       "        64445.,  57189.,  63218.,  55794.,  56957.,  57081.,  61111.,\n",
       "        67938.,  66029.,  83088.,  81363.,  93940.,  91738.,  98273.,\n",
       "       101302., 113812., 109431., 105582., 116969., 112635., 122391.,\n",
       "       121872.])"
      ]
     },
     "execution_count": 79,
     "metadata": {},
     "output_type": "execute_result"
    }
   ],
   "source": [
    "# Actual Output Values\n",
    "\n",
    "y"
   ]
  },
  {
   "cell_type": "markdown",
   "id": "b959791a-bf11-4499-8cda-f4ed4a8173df",
   "metadata": {},
   "source": [
    "---\n",
    "### Conculsion\n",
    "When we compare y and pred_y, we come to know that there is a huge difference. This huge difference does not mean that my model has predicted wrong. It only means that my model is NOT LINEAR / LESS LINEAR.<br>"
   ]
  },
  {
   "cell_type": "markdown",
   "id": "7cd96908-6bf6-4fea-9da0-c8040936162e",
   "metadata": {},
   "source": [
    "<br>\n",
    "\n",
    "#### Individual Prediction"
   ]
  },
  {
   "cell_type": "code",
   "execution_count": 80,
   "id": "6c31c8f4-d600-4ddf-9fd0-e7de5e3802f1",
   "metadata": {},
   "outputs": [
    {
     "data": {
      "text/plain": [
       "array([75963.5939216])"
      ]
     },
     "execution_count": 80,
     "metadata": {},
     "output_type": "execute_result"
    }
   ],
   "source": [
    "model.predict([[5]])"
   ]
  },
  {
   "cell_type": "markdown",
   "id": "d09537b9-1f59-4b77-971c-df5709d938c2",
   "metadata": {},
   "source": [
    "<br>\n",
    "\n",
    "#### Cross-verifiaction\n",
    "y = mx + c"
   ]
  },
  {
   "cell_type": "code",
   "execution_count": 81,
   "id": "5c6a20b1-c6bf-4383-9b5c-db10adb3b51b",
   "metadata": {},
   "outputs": [
    {
     "data": {
      "text/plain": [
       "array([9693.01955736])"
      ]
     },
     "execution_count": 81,
     "metadata": {},
     "output_type": "execute_result"
    }
   ],
   "source": [
    "m = model.coef_\n",
    "m"
   ]
  },
  {
   "cell_type": "code",
   "execution_count": 82,
   "id": "803640b7-f2f5-43b9-a820-bc55267e55dc",
   "metadata": {},
   "outputs": [
    {
     "data": {
      "text/plain": [
       "27498.496134789544"
      ]
     },
     "execution_count": 82,
     "metadata": {},
     "output_type": "execute_result"
    }
   ],
   "source": [
    "c = model.intercept_\n",
    "c"
   ]
  },
  {
   "cell_type": "code",
   "execution_count": 83,
   "id": "6bca292a-ec28-4ee7-a9ad-94d2600c0a11",
   "metadata": {},
   "outputs": [
    {
     "data": {
      "text/plain": [
       "array([75963.5939216])"
      ]
     },
     "execution_count": 83,
     "metadata": {},
     "output_type": "execute_result"
    }
   ],
   "source": [
    "m * 5 + c"
   ]
  },
  {
   "cell_type": "markdown",
   "id": "c5d187ad-e437-47a4-8b21-66054ace4383",
   "metadata": {},
   "source": [
    "<br>\n",
    "\n",
    "#### Accuracy of the model (R-squared score)\n",
    "Since the answer to the above cell block is the same as the 'Individual Prediction' block, our model has predicted correct.<br>\n",
    "<br>\n",
    "Furthermore, i will find the R-squared score of the model.<br>\n",
    "(The closer the R-squared score is to 1, the more accurate the model.)"
   ]
  },
  {
   "cell_type": "code",
   "execution_count": 84,
   "id": "dc631046-fa7b-42a2-aa41-799b46b337fd",
   "metadata": {},
   "outputs": [
    {
     "name": "stdout",
     "output_type": "stream",
     "text": [
      "R-squared score: 0.9472760886559446\n"
     ]
    }
   ],
   "source": [
    "from sklearn.metrics import r2_score\n",
    "\n",
    "r2_score = r2_score(y, y_pred)\n",
    "print(\"R-squared score:\", r2_score)"
   ]
  },
  {
   "cell_type": "markdown",
   "id": "983bb6c5-18c8-48f4-af86-f7543c355a56",
   "metadata": {},
   "source": [
    "---\n",
    "Since the R-squared score is very close to 1, we can say that our model is fairly accurate.\n",
    "\n",
    "---"
   ]
  },
  {
   "cell_type": "markdown",
   "id": "fd1443c1-c0e3-4289-bcc1-f3e6cb14ccc8",
   "metadata": {},
   "source": [
    "<br>\n",
    "\n",
    "#### Final Visualisation"
   ]
  },
  {
   "cell_type": "code",
   "execution_count": 85,
   "id": "7c593c6c-b047-4133-b543-6d846abbff12",
   "metadata": {},
   "outputs": [
    {
     "data": {
      "text/plain": [
       "Text(0, 0.5, 'Salary')"
      ]
     },
     "execution_count": 85,
     "metadata": {},
     "output_type": "execute_result"
    },
    {
     "data": {
      "image/png": "[encoded data removed]",
      "text/plain": [
       "<Figure size 640x480 with 1 Axes>"
      ]
     },
     "metadata": {},
     "output_type": "display_data"
    }
   ],
   "source": [
    "plt.scatter(x,y,c='blue')  # Actual output values\n",
    "plt.plot(x,y_pred,color='red') # Predicted output values\n",
    "\n",
    "# the scattered points will be the actual values and the line will represent the predicted values \n",
    "\n",
    "plt.title(\"BEST FIT LINE\")\n",
    "plt.xlabel(\"Years of experience\")\n",
    "plt.ylabel(\"Salary\")"
   ]
  }
 ],
 "metadata": {
  "kernelspec": {
   "display_name": "Python 3 (ipykernel)",
   "language": "python",
   "name": "python3"
  },
  "language_info": {
   "codemirror_mode": {
    "name": "ipython",
    "version": 3
   },
   "file_extension": ".py",
   "mimetype": "text/x-python",
   "name": "python",
   "nbconvert_exporter": "python",
   "pygments_lexer": "ipython3",
   "version": "3.9.13"
  },
  "toc-autonumbering": true
 },
 "nbformat": 4,
 "nbformat_minor": 5
}
